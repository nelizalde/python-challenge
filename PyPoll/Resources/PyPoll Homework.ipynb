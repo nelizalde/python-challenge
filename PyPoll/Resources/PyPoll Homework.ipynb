{
 "cells": [
  {
   "cell_type": "code",
   "execution_count": 118,
   "metadata": {},
   "outputs": [],
   "source": [
    "#import budget data\n",
    "import os \n",
    "import csv"
   ]
  },
  {
   "cell_type": "code",
   "execution_count": 119,
   "metadata": {},
   "outputs": [],
   "source": [
    "#create a path\n",
    "csvpath=os.path.join(\"..\",\"Resources\",\"election_data.csv\")"
   ]
  },
  {
   "cell_type": "code",
   "execution_count": 120,
   "metadata": {},
   "outputs": [
    {
     "name": "stdout",
     "output_type": "stream",
     "text": [
      "<_csv.reader object at 0x00000150563FE4C0>\n",
      "2218231 Khan [63.0, 20.0, 14.0, 3.0]\n"
     ]
    }
   ],
   "source": [
    "#Create list to store data \n",
    "number_votes=0\n",
    "candidate_list=[]\n",
    "vote_count={}\n",
    "vote_percent=[]\n",
    "\n",
    "#to open the file\n",
    "with open(csvpath,newline='') as csvfile:\n",
    "    csvreader=csv.reader(csvfile,delimiter=',')\n",
    "    print(csvreader)\n",
    "    csvheader=next(csvreader)\n",
    "    \n",
    "#total votes cast    \n",
    "    for row in csvreader:\n",
    "        \n",
    "        #vote count \n",
    "        number_votes+=1\n",
    "        \n",
    "        #pull candidate from list \n",
    "        candidate=(row[2])\n",
    "        \n",
    "        if candidate in candidate_list:\n",
    "            #candidate_index=candidate_list.index(candidate)\n",
    "            vote_count[candidate]=vote_count[candidate]+1\n",
    "        \n",
    "        else:\n",
    "            candidate_list.append(candidate)\n",
    "            vote_count[candidate]=1\n",
    "        \n",
    "#finding percentage votes\n",
    "\n",
    "percentage=[]\n",
    "highest_votes = 0\n",
    "winner=\"\"\n",
    "\n",
    "\n",
    "for i in range(len(candidate_list)):\n",
    "    candidate=candidate_list[i]\n",
    "    votes=vote_count.get(candidate)\n",
    "    vote_percentage=round(votes/number_votes*100,2)\n",
    "    percentage.append(vote_percentage)\n",
    "    if highest_votes<votes:\n",
    "        highest_votes=votes\n",
    "        winner=candidate\n",
    "print(highest_votes,winner,percentage)\n",
    "\n",
    "     \n",
    "\n",
    "    \n",
    "    "
   ]
  },
  {
   "cell_type": "code",
   "execution_count": 128,
   "metadata": {},
   "outputs": [
    {
     "name": "stdout",
     "output_type": "stream",
     "text": [
      "Election Results\n",
      "-------------------------\n",
      "Total Votes: 3521001\n",
      "-------------------------\n",
      "\n",
      "Khan: 63.0% (2218231)\n",
      "Correy: 20.0% (704200)\n",
      "Li: 14.0% (492940)\n",
      "O'Tooley: 3.0% (105630)\n",
      "-------------------------\n",
      "Winner: Khan\n",
      "-------------------------\n"
     ]
    }
   ],
   "source": [
    "with open(\"Output.txt\",\"w\") as txt:\n",
    "    output=(f\"Election Results\\n\"\n",
    "           f\"-------------------------\\n\"\n",
    "            f\"Total Votes: {str(number_votes)}\\n\"\n",
    "            f\"-------------------------\\n\"\n",
    "           )\n",
    "    print(output)\n",
    "    txt.write(output)\n",
    "    for i in range(len(candidate_list)):\n",
    "        output1=f\"{candidate_list[i]}: {str(percentage[i])}% ({str(vote_count[candidate_list[i]])})\\n\"\n",
    "        print(f\"{candidate_list[i]}: {str(percentage[i])}% ({str(vote_count[candidate_list[i]])})\")\n",
    "        txt.write(output1)\n",
    "    output2=(f\"-------------------------\\n\"\n",
    "             f\"Winner: {winner}\\n\"\n",
    "             f\"-------------------------\")\n",
    "    txt.write(output2)\n",
    "    print(output2)\n",
    "    \n",
    "        \n",
    "        \n",
    "            "
   ]
  }
 ],
 "metadata": {
  "kernelspec": {
   "display_name": "Python 3",
   "language": "python",
   "name": "python3"
  },
  "language_info": {
   "codemirror_mode": {
    "name": "ipython",
    "version": 3
   },
   "file_extension": ".py",
   "mimetype": "text/x-python",
   "name": "python",
   "nbconvert_exporter": "python",
   "pygments_lexer": "ipython3",
   "version": "3.8.5"
  }
 },
 "nbformat": 4,
 "nbformat_minor": 4
}
